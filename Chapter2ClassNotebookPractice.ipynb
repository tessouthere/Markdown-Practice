{
 "cells": [
  {
   "cell_type": "code",
   "execution_count": 1,
   "id": "49d72daf",
   "metadata": {},
   "outputs": [
    {
     "name": "stdout",
     "output_type": "stream",
     "text": [
      "6\n"
     ]
    }
   ],
   "source": [
    "a=3\n",
    "b=a*2\n",
    "print(b)"
   ]
  },
  {
   "cell_type": "code",
   "execution_count": 2,
   "id": "257cba22",
   "metadata": {},
   "outputs": [
    {
     "name": "stdout",
     "output_type": "stream",
     "text": [
      "11\n"
     ]
    }
   ],
   "source": [
    "c=5\n",
    "d=6\n",
    "print(c+d)"
   ]
  },
  {
   "cell_type": "code",
   "execution_count": 3,
   "id": "615209e4",
   "metadata": {
    "collapsed": true
   },
   "outputs": [
    {
     "name": "stdout",
     "output_type": "stream",
     "text": [
      "Hello class welcome to CS150!\n"
     ]
    }
   ],
   "source": [
    "print(\"Hello class welcome to CS150!\")"
   ]
  },
  {
   "cell_type": "markdown",
   "id": "305fe737",
   "metadata": {},
   "source": [
    "# Heading1"
   ]
  },
  {
   "cell_type": "markdown",
   "id": "f98b5062",
   "metadata": {},
   "source": [
    "## Heading2"
   ]
  },
  {
   "cell_type": "markdown",
   "id": "c858158d",
   "metadata": {},
   "source": [
    "### Heading3"
   ]
  },
  {
   "cell_type": "markdown",
   "id": "792dd77f",
   "metadata": {},
   "source": [
    "#### Heading4"
   ]
  },
  {
   "cell_type": "markdown",
   "id": "32994df8",
   "metadata": {},
   "source": [
    "##### Heading5"
   ]
  },
  {
   "cell_type": "markdown",
   "id": "c89e97ef",
   "metadata": {},
   "source": [
    "###### Heading6"
   ]
  },
  {
   "cell_type": "markdown",
   "id": "a214cc54",
   "metadata": {},
   "source": [
    "> This is a good day to practice markdown syntax!"
   ]
  },
  {
   "cell_type": "markdown",
   "id": "eff1743f",
   "metadata": {},
   "source": [
    "* this is a bullet list\n",
    "* this is the second bullet on my bullet list"
   ]
  },
  {
   "cell_type": "markdown",
   "id": "a9cffa18",
   "metadata": {},
   "source": [
    "> below is a numbered list of my favorite things"
   ]
  },
  {
   "cell_type": "markdown",
   "id": "83f9f4b7",
   "metadata": {},
   "source": [
    "1. coffee\n",
    "2. music\n",
    "3. peach tea\n",
    "4. puppies"
   ]
  },
  {
   "cell_type": "markdown",
   "id": "4e9fb680",
   "metadata": {},
   "source": [
    "**these are bold words**"
   ]
  },
  {
   "cell_type": "markdown",
   "id": "05077990",
   "metadata": {},
   "source": [
    "*these are italicized words*"
   ]
  },
  {
   "cell_type": "markdown",
   "id": "4d1e5f3c",
   "metadata": {},
   "source": [
    "`Here is a code for printing statements!`"
   ]
  },
  {
   "cell_type": "markdown",
   "id": "0d192933",
   "metadata": {},
   "source": [
    "<a href=\"https://www.google.com/\">this link</a>"
   ]
  },
  {
   "cell_type": "markdown",
   "id": "f68d3d12",
   "metadata": {},
   "source": [
    "![New River Gorge](https://blog-assets.thedyrt.com/uploads/2019/03/shutterstock_1219542184-2.jpg)"
   ]
  },
  {
   "cell_type": "code",
   "execution_count": null,
   "id": "f1d87ec2",
   "metadata": {},
   "outputs": [],
   "source": []
  }
 ],
 "metadata": {
  "kernelspec": {
   "display_name": "Python 3 (ipykernel)",
   "language": "python",
   "name": "python3"
  },
  "language_info": {
   "codemirror_mode": {
    "name": "ipython",
    "version": 3
   },
   "file_extension": ".py",
   "mimetype": "text/x-python",
   "name": "python",
   "nbconvert_exporter": "python",
   "pygments_lexer": "ipython3",
   "version": "3.9.12"
  }
 },
 "nbformat": 4,
 "nbformat_minor": 5
}
